{
 "cells": [
  {
   "cell_type": "code",
   "execution_count": 25,
   "metadata": {},
   "outputs": [],
   "source": [
    "import tensorflow as tf\n",
    "from tensorflow import keras\n",
    "import cv2\n",
    "import PIL\n",
    "# from datetime import time\n",
    "import time"
   ]
  },
  {
   "cell_type": "code",
   "execution_count": 30,
   "metadata": {},
   "outputs": [
    {
     "name": "stdout",
     "output_type": "stream",
     "text": [
      "0.007796287536621094\n"
     ]
    }
   ],
   "source": [
    "start = time.time()\n",
    "img = tf.io.read_file('../../cute-cat-photos-1593441022-2.jpg')\n",
    "img = tf.image.decode_jpeg(img, channels=3)\n",
    "img = tf.image.resize(img, (256, 256))\n",
    "end = time.time()\n",
    "print(end-start)"
   ]
  },
  {
   "cell_type": "code",
   "execution_count": 28,
   "metadata": {},
   "outputs": [
    {
     "name": "stdout",
     "output_type": "stream",
     "text": [
      "0.007881879806518555\n"
     ]
    }
   ],
   "source": [
    "start = time.time()\n",
    "img = tf.io.read_file('../../cute-cat-photos-1593441022-2.jpg')\n",
    "img = tf.image.decode_jpeg(img, channels=3, dct_method='INTEGER_ACCURATE')\n",
    "img = tf.image.resize(img, (256, 256))\n",
    "end = time.time()\n",
    "print(end-start)"
   ]
  },
  {
   "cell_type": "code",
   "execution_count": 29,
   "metadata": {},
   "outputs": [
    {
     "name": "stdout",
     "output_type": "stream",
     "text": [
      "0.006916999816894531\n"
     ]
    }
   ],
   "source": [
    "start = time.time()\n",
    "img_c = cv2.imread('../../cute-cat-photos-1593441022-2.jpg')\n",
    "img_c = cv2.cvtColor(img_c, cv2.COLOR_BGR2RGB)\n",
    "img_c = cv2.resize(img_c, (256, 256))\n",
    "end = time.time()\n",
    "print(end-start)"
   ]
  },
  {
   "cell_type": "code",
   "execution_count": null,
   "metadata": {},
   "outputs": [],
   "source": []
  },
  {
   "cell_type": "code",
   "execution_count": null,
   "metadata": {},
   "outputs": [],
   "source": []
  },
  {
   "cell_type": "code",
   "execution_count": null,
   "metadata": {},
   "outputs": [],
   "source": []
  }
 ],
 "metadata": {
  "kernelspec": {
   "display_name": "base_env",
   "language": "python",
   "name": "base_env"
  },
  "language_info": {
   "codemirror_mode": {
    "name": "ipython",
    "version": 3
   },
   "file_extension": ".py",
   "mimetype": "text/x-python",
   "name": "python",
   "nbconvert_exporter": "python",
   "pygments_lexer": "ipython3",
   "version": "3.8.10"
  },
  "orig_nbformat": 4
 },
 "nbformat": 4,
 "nbformat_minor": 2
}
