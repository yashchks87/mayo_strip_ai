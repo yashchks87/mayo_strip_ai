{
 "cells": [
  {
   "cell_type": "code",
   "execution_count": 1,
   "metadata": {},
   "outputs": [],
   "source": [
    "import torch\n",
    "import numpy as np\n",
    "import pandas as pd\n",
    "from torch.utils.data import Dataset, DataLoader\n",
    "from sklearn.model_selection import train_test_split\n",
    "import matplotlib.pyplot as plt\n",
    "import torchvision\n",
    "import torch.nn as nn\n",
    "%load_ext autoreload\n",
    "%autoreload 2\n",
    "import sys\n",
    "sys.path.append('../scripts/')\n",
    "from model import get_res50\n",
    "from loss import bce\n",
    "import glob, os\n",
    "from metrics import precision, recall\n",
    "from dataset import MayoData, train_loader, val_loader, test_loader, plot_images\n",
    "from PIL import Image\n",
    "from tqdm import tqdm\n",
    "import random\n",
    "import warnings\n",
    "warnings.filterwarnings('ignore')\n",
    "from train import train_script"
   ]
  },
  {
   "cell_type": "code",
   "execution_count": 2,
   "metadata": {},
   "outputs": [
    {
     "data": {
      "text/plain": [
       "'2.0.0+cu117'"
      ]
     },
     "execution_count": 2,
     "metadata": {},
     "output_type": "execute_result"
    }
   ],
   "source": [
    "torch.__version__"
   ]
  },
  {
   "cell_type": "code",
   "execution_count": 3,
   "metadata": {},
   "outputs": [],
   "source": [
    "device = torch.device('cuda' if torch.cuda.is_available() else 'cpu')"
   ]
  },
  {
   "cell_type": "code",
   "execution_count": 4,
   "metadata": {},
   "outputs": [],
   "source": [
    "train_csv = pd.read_csv('../../mayo_data/train.csv')"
   ]
  },
  {
   "cell_type": "code",
   "execution_count": 5,
   "metadata": {},
   "outputs": [
    {
     "data": {
      "text/html": [
       "<div>\n",
       "<style scoped>\n",
       "    .dataframe tbody tr th:only-of-type {\n",
       "        vertical-align: middle;\n",
       "    }\n",
       "\n",
       "    .dataframe tbody tr th {\n",
       "        vertical-align: top;\n",
       "    }\n",
       "\n",
       "    .dataframe thead th {\n",
       "        text-align: right;\n",
       "    }\n",
       "</style>\n",
       "<table border=\"1\" class=\"dataframe\">\n",
       "  <thead>\n",
       "    <tr style=\"text-align: right;\">\n",
       "      <th></th>\n",
       "      <th>image_id</th>\n",
       "      <th>center_id</th>\n",
       "      <th>patient_id</th>\n",
       "      <th>image_num</th>\n",
       "      <th>label</th>\n",
       "    </tr>\n",
       "  </thead>\n",
       "  <tbody>\n",
       "    <tr>\n",
       "      <th>0</th>\n",
       "      <td>006388_0</td>\n",
       "      <td>11</td>\n",
       "      <td>006388</td>\n",
       "      <td>0</td>\n",
       "      <td>CE</td>\n",
       "    </tr>\n",
       "    <tr>\n",
       "      <th>1</th>\n",
       "      <td>008e5c_0</td>\n",
       "      <td>11</td>\n",
       "      <td>008e5c</td>\n",
       "      <td>0</td>\n",
       "      <td>CE</td>\n",
       "    </tr>\n",
       "  </tbody>\n",
       "</table>\n",
       "</div>"
      ],
      "text/plain": [
       "   image_id  center_id patient_id  image_num label\n",
       "0  006388_0         11     006388          0    CE\n",
       "1  008e5c_0         11     008e5c          0    CE"
      ]
     },
     "execution_count": 5,
     "metadata": {},
     "output_type": "execute_result"
    }
   ],
   "source": [
    "train_csv.head(2)"
   ]
  },
  {
   "cell_type": "code",
   "execution_count": 6,
   "metadata": {},
   "outputs": [
    {
     "data": {
      "text/plain": [
       "CE     547\n",
       "LAA    207\n",
       "Name: label, dtype: int64"
      ]
     },
     "execution_count": 6,
     "metadata": {},
     "output_type": "execute_result"
    }
   ],
   "source": [
    "train_csv['label'].value_counts()"
   ]
  },
  {
   "cell_type": "code",
   "execution_count": 7,
   "metadata": {},
   "outputs": [],
   "source": [
    "train_csv['updated_paths'] = train_csv['image_id'].apply(lambda x: '../../mayo_data/train_resized/2048/' + x + '.jpg')"
   ]
  },
  {
   "cell_type": "code",
   "execution_count": 8,
   "metadata": {},
   "outputs": [
    {
     "data": {
      "text/html": [
       "<div>\n",
       "<style scoped>\n",
       "    .dataframe tbody tr th:only-of-type {\n",
       "        vertical-align: middle;\n",
       "    }\n",
       "\n",
       "    .dataframe tbody tr th {\n",
       "        vertical-align: top;\n",
       "    }\n",
       "\n",
       "    .dataframe thead th {\n",
       "        text-align: right;\n",
       "    }\n",
       "</style>\n",
       "<table border=\"1\" class=\"dataframe\">\n",
       "  <thead>\n",
       "    <tr style=\"text-align: right;\">\n",
       "      <th></th>\n",
       "      <th>image_id</th>\n",
       "      <th>center_id</th>\n",
       "      <th>patient_id</th>\n",
       "      <th>image_num</th>\n",
       "      <th>label</th>\n",
       "      <th>updated_paths</th>\n",
       "    </tr>\n",
       "  </thead>\n",
       "  <tbody>\n",
       "    <tr>\n",
       "      <th>0</th>\n",
       "      <td>006388_0</td>\n",
       "      <td>11</td>\n",
       "      <td>006388</td>\n",
       "      <td>0</td>\n",
       "      <td>CE</td>\n",
       "      <td>../../mayo_data/train_resized/2048/006388_0.jpg</td>\n",
       "    </tr>\n",
       "    <tr>\n",
       "      <th>1</th>\n",
       "      <td>008e5c_0</td>\n",
       "      <td>11</td>\n",
       "      <td>008e5c</td>\n",
       "      <td>0</td>\n",
       "      <td>CE</td>\n",
       "      <td>../../mayo_data/train_resized/2048/008e5c_0.jpg</td>\n",
       "    </tr>\n",
       "  </tbody>\n",
       "</table>\n",
       "</div>"
      ],
      "text/plain": [
       "   image_id  center_id patient_id  image_num label  \\\n",
       "0  006388_0         11     006388          0    CE   \n",
       "1  008e5c_0         11     008e5c          0    CE   \n",
       "\n",
       "                                     updated_paths  \n",
       "0  ../../mayo_data/train_resized/2048/006388_0.jpg  \n",
       "1  ../../mayo_data/train_resized/2048/008e5c_0.jpg  "
      ]
     },
     "execution_count": 8,
     "metadata": {},
     "output_type": "execute_result"
    }
   ],
   "source": [
    "train_csv.head(2)"
   ]
  },
  {
   "cell_type": "code",
   "execution_count": 9,
   "metadata": {},
   "outputs": [],
   "source": [
    "def convert_targets(data):\n",
    "    if data == 'CE':\n",
    "        return 1\n",
    "    else:\n",
    "        return 0"
   ]
  },
  {
   "cell_type": "code",
   "execution_count": 10,
   "metadata": {},
   "outputs": [],
   "source": [
    "train_csv['target'] = train_csv['label'].apply(convert_targets)"
   ]
  },
  {
   "cell_type": "code",
   "execution_count": 11,
   "metadata": {},
   "outputs": [
    {
     "data": {
      "text/html": [
       "<div>\n",
       "<style scoped>\n",
       "    .dataframe tbody tr th:only-of-type {\n",
       "        vertical-align: middle;\n",
       "    }\n",
       "\n",
       "    .dataframe tbody tr th {\n",
       "        vertical-align: top;\n",
       "    }\n",
       "\n",
       "    .dataframe thead th {\n",
       "        text-align: right;\n",
       "    }\n",
       "</style>\n",
       "<table border=\"1\" class=\"dataframe\">\n",
       "  <thead>\n",
       "    <tr style=\"text-align: right;\">\n",
       "      <th></th>\n",
       "      <th>image_id</th>\n",
       "      <th>center_id</th>\n",
       "      <th>patient_id</th>\n",
       "      <th>image_num</th>\n",
       "      <th>label</th>\n",
       "      <th>updated_paths</th>\n",
       "      <th>target</th>\n",
       "    </tr>\n",
       "  </thead>\n",
       "  <tbody>\n",
       "    <tr>\n",
       "      <th>0</th>\n",
       "      <td>006388_0</td>\n",
       "      <td>11</td>\n",
       "      <td>006388</td>\n",
       "      <td>0</td>\n",
       "      <td>CE</td>\n",
       "      <td>../../mayo_data/train_resized/2048/006388_0.jpg</td>\n",
       "      <td>1</td>\n",
       "    </tr>\n",
       "    <tr>\n",
       "      <th>1</th>\n",
       "      <td>008e5c_0</td>\n",
       "      <td>11</td>\n",
       "      <td>008e5c</td>\n",
       "      <td>0</td>\n",
       "      <td>CE</td>\n",
       "      <td>../../mayo_data/train_resized/2048/008e5c_0.jpg</td>\n",
       "      <td>1</td>\n",
       "    </tr>\n",
       "  </tbody>\n",
       "</table>\n",
       "</div>"
      ],
      "text/plain": [
       "   image_id  center_id patient_id  image_num label  \\\n",
       "0  006388_0         11     006388          0    CE   \n",
       "1  008e5c_0         11     008e5c          0    CE   \n",
       "\n",
       "                                     updated_paths  target  \n",
       "0  ../../mayo_data/train_resized/2048/006388_0.jpg       1  \n",
       "1  ../../mayo_data/train_resized/2048/008e5c_0.jpg       1  "
      ]
     },
     "execution_count": 11,
     "metadata": {},
     "output_type": "execute_result"
    }
   ],
   "source": [
    "train_csv.head(2)"
   ]
  },
  {
   "cell_type": "code",
   "execution_count": 12,
   "metadata": {},
   "outputs": [],
   "source": [
    "def split_datasets(data, test_size = 0.1):\n",
    "    train, val = train_test_split(data, test_size=test_size, random_state=42)\n",
    "    train, test = train_test_split(train, test_size=test_size, random_state=42)\n",
    "    return train, val, test"
   ]
  },
  {
   "cell_type": "code",
   "execution_count": 13,
   "metadata": {},
   "outputs": [],
   "source": [
    "train, val, test = split_datasets(train_csv)"
   ]
  },
  {
   "cell_type": "markdown",
   "metadata": {},
   "source": [
    "### Summary Stats"
   ]
  },
  {
   "cell_type": "code",
   "execution_count": 14,
   "metadata": {},
   "outputs": [],
   "source": [
    "def summary_metrics_dataset(dataset: pd.DataFrame):\n",
    "    temp = dict(dataset['target'].value_counts())\n",
    "    print(sum(temp.values()))\n",
    "    for k, v in temp.items():\n",
    "        t = round((v / sum(temp.values())), 2)\n",
    "        print(f'For {k} : {v}')\n",
    "        print(f'For {k}: {t}%')"
   ]
  },
  {
   "cell_type": "code",
   "execution_count": 15,
   "metadata": {},
   "outputs": [
    {
     "name": "stdout",
     "output_type": "stream",
     "text": [
      "610\n",
      "For 1 : 447\n",
      "For 1: 0.73%\n",
      "For 0 : 163\n",
      "For 0: 0.27%\n"
     ]
    }
   ],
   "source": [
    "summary_metrics_dataset(train)"
   ]
  },
  {
   "cell_type": "code",
   "execution_count": 16,
   "metadata": {},
   "outputs": [
    {
     "name": "stdout",
     "output_type": "stream",
     "text": [
      "76\n",
      "For 1 : 48\n",
      "For 1: 0.63%\n",
      "For 0 : 28\n",
      "For 0: 0.37%\n"
     ]
    }
   ],
   "source": [
    "summary_metrics_dataset(val)"
   ]
  },
  {
   "cell_type": "code",
   "execution_count": 17,
   "metadata": {},
   "outputs": [
    {
     "name": "stdout",
     "output_type": "stream",
     "text": [
      "68\n",
      "For 1 : 52\n",
      "For 1: 0.76%\n",
      "For 0 : 16\n",
      "For 0: 0.24%\n"
     ]
    }
   ],
   "source": [
    "summary_metrics_dataset(test)"
   ]
  },
  {
   "cell_type": "markdown",
   "metadata": {},
   "source": [
    "### Gather datasets"
   ]
  },
  {
   "cell_type": "code",
   "execution_count": 18,
   "metadata": {},
   "outputs": [],
   "source": [
    "train_l, val_l, test_l = train_loader(train, 256), val_loader(val, 256), test_loader(test, 256)"
   ]
  },
  {
   "cell_type": "code",
   "execution_count": 19,
   "metadata": {},
   "outputs": [
    {
     "name": "stderr",
     "output_type": "stream",
     "text": [
      "Failed to detect the name of this notebook, you can set it manually with the WANDB_NOTEBOOK_NAME environment variable to enable code saving.\n",
      "\u001b[34m\u001b[1mwandb\u001b[0m: Currently logged in as: \u001b[33myashchks87\u001b[0m. Use \u001b[1m`wandb login --relogin`\u001b[0m to force relogin\n"
     ]
    },
    {
     "data": {
      "text/html": [
       "wandb version 0.16.1 is available!  To upgrade, please run:\n",
       " $ pip install wandb --upgrade"
      ],
      "text/plain": [
       "<IPython.core.display.HTML object>"
      ]
     },
     "metadata": {},
     "output_type": "display_data"
    },
    {
     "data": {
      "text/html": [
       "Tracking run with wandb version 0.13.4"
      ],
      "text/plain": [
       "<IPython.core.display.HTML object>"
      ]
     },
     "metadata": {},
     "output_type": "display_data"
    },
    {
     "data": {
      "text/html": [
       "Run data is saved locally in <code>/home/paperspace/Documents/mayo_strip_ai/notebooks/wandb/run-20231212_000436-3acks46h</code>"
      ],
      "text/plain": [
       "<IPython.core.display.HTML object>"
      ]
     },
     "metadata": {},
     "output_type": "display_data"
    },
    {
     "data": {
      "text/html": [
       "Syncing run <strong><a href=\"https://wandb.ai/yashchks87/mayo_data/runs/3acks46h\" target=\"_blank\">crimson-wind-4</a></strong> to <a href=\"https://wandb.ai/yashchks87/mayo_data\" target=\"_blank\">Weights & Biases</a> (<a href=\"https://wandb.me/run\" target=\"_blank\">docs</a>)<br/>"
      ],
      "text/plain": [
       "<IPython.core.display.HTML object>"
      ]
     },
     "metadata": {},
     "output_type": "display_data"
    },
    {
     "name": "stderr",
     "output_type": "stream",
     "text": [
      "  0%|          | 0/20 [00:26<?, ?batch/s, loss=0.371, prec=1, rec=1]        \n"
     ]
    },
    {
     "name": "stdout",
     "output_type": "stream",
     "text": [
      "Train loss: 0.5910768136382103\n",
      "Train prec: 0.978125\n",
      "Train rec: 0.7453125\n"
     ]
    },
    {
     "name": "stderr",
     "output_type": "stream",
     "text": [
      "  0%|          | 0/3 [00:03<?, ?batch/s, loss=0.754, prec=1, rec=0.5]  \n"
     ]
    },
    {
     "name": "stdout",
     "output_type": "stream",
     "text": [
      "Train loss: 0.6808341344197592\n",
      "Train prec: 1.0\n",
      "Train rec: 0.6041666666666666\n",
      "Weight saved for epoch 0.\n"
     ]
    },
    {
     "name": "stderr",
     "output_type": "stream",
     "text": [
      "  0%|          | 0/20 [00:16<?, ?batch/s, loss=0.262, prec=1, rec=1]    \n"
     ]
    },
    {
     "name": "stdout",
     "output_type": "stream",
     "text": [
      "Train loss: 0.5752158761024475\n",
      "Train prec: 1.0\n",
      "Train rec: 0.7453125\n"
     ]
    },
    {
     "name": "stderr",
     "output_type": "stream",
     "text": [
      "  0%|          | 0/3 [00:03<?, ?batch/s, loss=0.664, prec=1, rec=0.667]\n"
     ]
    },
    {
     "name": "stdout",
     "output_type": "stream",
     "text": [
      "Train loss: 0.6965249180793762\n",
      "Train prec: 1.0\n",
      "Train rec: 0.6388888955116272\n",
      "Weight saved for epoch 1.\n"
     ]
    },
    {
     "name": "stderr",
     "output_type": "stream",
     "text": [
      "  0%|          | 0/20 [00:16<?, ?batch/s, loss=0.302, prec=1, rec=1]    \n"
     ]
    },
    {
     "name": "stdout",
     "output_type": "stream",
     "text": [
      "Train loss: 0.5752756670117378\n",
      "Train prec: 1.0\n",
      "Train rec: 0.7453125\n"
     ]
    },
    {
     "name": "stderr",
     "output_type": "stream",
     "text": [
      "  0%|          | 0/3 [00:03<?, ?batch/s, loss=0.81, prec=1, rec=0.583] \n"
     ]
    },
    {
     "name": "stdout",
     "output_type": "stream",
     "text": [
      "Train loss: 0.7500983476638794\n",
      "Train prec: 1.0\n",
      "Train rec: 0.6215277711550394\n",
      "Weight saved for epoch 2.\n"
     ]
    },
    {
     "name": "stderr",
     "output_type": "stream",
     "text": [
      "  0%|          | 0/20 [00:16<?, ?batch/s, loss=0.837, prec=1, rec=0.5]  \n"
     ]
    },
    {
     "name": "stdout",
     "output_type": "stream",
     "text": [
      "Train loss: 0.602578942477703\n",
      "Train prec: 1.0\n",
      "Train rec: 0.721875\n"
     ]
    },
    {
     "name": "stderr",
     "output_type": "stream",
     "text": [
      "  0%|          | 0/3 [00:03<?, ?batch/s, loss=0.601, prec=0.917, rec=0.75]\n"
     ]
    },
    {
     "name": "stdout",
     "output_type": "stream",
     "text": [
      "Train loss: 0.6497397224108378\n",
      "Train prec: 0.9618055621782938\n",
      "Train rec: 0.65625\n",
      "Weight saved for epoch 3.\n"
     ]
    },
    {
     "name": "stderr",
     "output_type": "stream",
     "text": [
      "  0%|          | 0/20 [00:16<?, ?batch/s, loss=0.283, prec=1, rec=1]        \n"
     ]
    },
    {
     "name": "stdout",
     "output_type": "stream",
     "text": [
      "Train loss: 0.5727806434035301\n",
      "Train prec: 0.9984375\n",
      "Train rec: 0.7453125\n"
     ]
    },
    {
     "name": "stderr",
     "output_type": "stream",
     "text": [
      "  0%|          | 0/3 [00:03<?, ?batch/s, loss=0.709, prec=1, rec=0.667]\n"
     ]
    },
    {
     "name": "stdout",
     "output_type": "stream",
     "text": [
      "Train loss: 0.7653405467669169\n",
      "Train prec: 1.0\n",
      "Train rec: 0.6388888955116272\n",
      "Weight saved for epoch 4.\n"
     ]
    },
    {
     "name": "stderr",
     "output_type": "stream",
     "text": [
      "  0%|          | 0/20 [00:16<?, ?batch/s, loss=0.293, prec=1, rec=1]    \n"
     ]
    },
    {
     "name": "stdout",
     "output_type": "stream",
     "text": [
      "Train loss: 0.569839046895504\n",
      "Train prec: 1.0\n",
      "Train rec: 0.7453125\n"
     ]
    },
    {
     "name": "stderr",
     "output_type": "stream",
     "text": [
      "  0%|          | 0/3 [00:03<?, ?batch/s, loss=1.12, prec=1, rec=0.417] \n"
     ]
    },
    {
     "name": "stdout",
     "output_type": "stream",
     "text": [
      "Train loss: 0.8606879115104675\n",
      "Train prec: 1.0\n",
      "Train rec: 0.5868055522441864\n",
      "Weight saved for epoch 5.\n"
     ]
    },
    {
     "name": "stderr",
     "output_type": "stream",
     "text": [
      "  0%|          | 0/20 [00:15<?, ?batch/s, loss=0.259, prec=1, rec=1]    \n"
     ]
    },
    {
     "name": "stdout",
     "output_type": "stream",
     "text": [
      "Train loss: 0.5730927601456642\n",
      "Train prec: 1.0\n",
      "Train rec: 0.7453125\n"
     ]
    },
    {
     "name": "stderr",
     "output_type": "stream",
     "text": [
      "  0%|          | 0/3 [00:04<?, ?batch/s, loss=0.727, prec=1, rec=0.667]\n"
     ]
    },
    {
     "name": "stdout",
     "output_type": "stream",
     "text": [
      "Train loss: 0.7783814867337545\n",
      "Train prec: 1.0\n",
      "Train rec: 0.6388888955116272\n",
      "Weight saved for epoch 6.\n"
     ]
    },
    {
     "name": "stderr",
     "output_type": "stream",
     "text": [
      "  0%|          | 0/20 [00:18<?, ?batch/s, loss=0.315, prec=1, rec=1]    \n"
     ]
    },
    {
     "name": "stdout",
     "output_type": "stream",
     "text": [
      "Train loss: 0.573878389596939\n",
      "Train prec: 1.0\n",
      "Train rec: 0.7453125\n"
     ]
    },
    {
     "name": "stderr",
     "output_type": "stream",
     "text": [
      "  0%|          | 0/3 [00:03<?, ?batch/s, loss=0.453, prec=1, rec=0.833]\n"
     ]
    },
    {
     "name": "stdout",
     "output_type": "stream",
     "text": [
      "Train loss: 0.7246693968772888\n",
      "Train prec: 1.0\n",
      "Train rec: 0.6736111044883728\n",
      "Weight saved for epoch 7.\n"
     ]
    },
    {
     "name": "stderr",
     "output_type": "stream",
     "text": [
      "  0%|          | 0/20 [00:19<?, ?batch/s, loss=0.289, prec=1, rec=1]    \n"
     ]
    },
    {
     "name": "stdout",
     "output_type": "stream",
     "text": [
      "Train loss: 0.5770798683166504\n",
      "Train prec: 1.0\n",
      "Train rec: 0.7453125\n"
     ]
    },
    {
     "name": "stderr",
     "output_type": "stream",
     "text": [
      "  0%|          | 0/3 [00:04<?, ?batch/s, loss=0.718, prec=1, rec=0.667]\n"
     ]
    },
    {
     "name": "stdout",
     "output_type": "stream",
     "text": [
      "Train loss: 0.7679564356803894\n",
      "Train prec: 1.0\n",
      "Train rec: 0.6388888955116272\n",
      "Weight saved for epoch 8.\n"
     ]
    },
    {
     "name": "stderr",
     "output_type": "stream",
     "text": [
      "  0%|          | 0/20 [00:20<?, ?batch/s, loss=1.32, prec=0, rec=0]     \n"
     ]
    },
    {
     "name": "stdout",
     "output_type": "stream",
     "text": [
      "Train loss: 0.6198867529630661\n",
      "Train prec: 0.95\n",
      "Train rec: 0.6984375\n"
     ]
    },
    {
     "name": "stderr",
     "output_type": "stream",
     "text": [
      "  0%|          | 0/3 [00:03<?, ?batch/s, loss=8.92, prec=0, rec=0]\n"
     ]
    },
    {
     "name": "stdout",
     "output_type": "stream",
     "text": [
      "Train loss: 6.897683938344319\n",
      "Train prec: 0.0\n",
      "Train rec: 0.0\n",
      "Weight saved for epoch 9.\n"
     ]
    },
    {
     "name": "stderr",
     "output_type": "stream",
     "text": [
      "  0%|          | 0/20 [00:16<?, ?batch/s, loss=0.802, prec=1, rec=0.5]      \n"
     ]
    },
    {
     "name": "stdout",
     "output_type": "stream",
     "text": [
      "Train loss: 0.6175109669566154\n",
      "Train prec: 0.9421875\n",
      "Train rec: 0.684375\n"
     ]
    },
    {
     "name": "stderr",
     "output_type": "stream",
     "text": [
      "  0%|          | 0/3 [00:03<?, ?batch/s, loss=0.653, prec=0.833, rec=0.917]\n"
     ]
    },
    {
     "name": "stdout",
     "output_type": "stream",
     "text": [
      "Train loss: 0.6761051019032797\n",
      "Train prec: 0.8611111044883728\n",
      "Train rec: 0.6909722288449606\n",
      "Weight saved for epoch 10.\n"
     ]
    },
    {
     "name": "stderr",
     "output_type": "stream",
     "text": [
      "  0%|          | 0/20 [00:16<?, ?batch/s, loss=0.794, prec=1, rec=0.5]      \n"
     ]
    },
    {
     "name": "stdout",
     "output_type": "stream",
     "text": [
      "Train loss: 0.5979326695203782\n",
      "Train prec: 0.9984375\n",
      "Train rec: 0.721875\n"
     ]
    },
    {
     "name": "stderr",
     "output_type": "stream",
     "text": [
      "  0%|          | 0/3 [00:03<?, ?batch/s, loss=0.687, prec=0.917, rec=0.583]\n"
     ]
    },
    {
     "name": "stdout",
     "output_type": "stream",
     "text": [
      "Train loss: 0.670303483804067\n",
      "Train prec: 0.9409722288449606\n",
      "Train rec: 0.6215277711550394\n",
      "Weight saved for epoch 11.\n"
     ]
    },
    {
     "name": "stderr",
     "output_type": "stream",
     "text": [
      "  0%|          | 0/20 [00:16<?, ?batch/s, loss=0.254, prec=1, rec=1]       \n"
     ]
    },
    {
     "name": "stdout",
     "output_type": "stream",
     "text": [
      "Train loss: 0.5714687511324883\n",
      "Train prec: 0.9984375\n",
      "Train rec: 0.7453125\n"
     ]
    },
    {
     "name": "stderr",
     "output_type": "stream",
     "text": [
      "  0%|          | 0/3 [00:03<?, ?batch/s, loss=1.05, prec=1, rec=0.583] \n"
     ]
    },
    {
     "name": "stdout",
     "output_type": "stream",
     "text": [
      "Train loss: 0.9706815282503763\n",
      "Train prec: 1.0\n",
      "Train rec: 0.6215277711550394\n",
      "Weight saved for epoch 12.\n"
     ]
    },
    {
     "name": "stderr",
     "output_type": "stream",
     "text": [
      "  0%|          | 0/20 [00:16<?, ?batch/s, loss=0.875, prec=1, rec=0.5]  \n"
     ]
    },
    {
     "name": "stdout",
     "output_type": "stream",
     "text": [
      "Train loss: 0.6030153885483742\n",
      "Train prec: 1.0\n",
      "Train rec: 0.721875\n"
     ]
    },
    {
     "name": "stderr",
     "output_type": "stream",
     "text": [
      "  0%|          | 0/3 [00:03<?, ?batch/s, loss=0.649, prec=1, rec=0.667]\n"
     ]
    },
    {
     "name": "stdout",
     "output_type": "stream",
     "text": [
      "Train loss: 0.6597726742426554\n",
      "Train prec: 1.0\n",
      "Train rec: 0.6388888955116272\n",
      "Weight saved for epoch 13.\n"
     ]
    },
    {
     "name": "stderr",
     "output_type": "stream",
     "text": [
      "  0%|          | 0/20 [00:20<?, ?batch/s, loss=0.307, prec=1, rec=1]    \n"
     ]
    },
    {
     "name": "stdout",
     "output_type": "stream",
     "text": [
      "Train loss: 0.5723738461732865\n",
      "Train prec: 1.0\n",
      "Train rec: 0.7453125\n"
     ]
    },
    {
     "name": "stderr",
     "output_type": "stream",
     "text": [
      "  0%|          | 0/3 [00:04<?, ?batch/s, loss=1.17, prec=1, rec=0.417] \n"
     ]
    },
    {
     "name": "stdout",
     "output_type": "stream",
     "text": [
      "Train loss: 0.8755440513292948\n",
      "Train prec: 1.0\n",
      "Train rec: 0.5868055522441864\n",
      "Weight saved for epoch 14.\n"
     ]
    },
    {
     "name": "stderr",
     "output_type": "stream",
     "text": [
      "  0%|          | 0/20 [00:19<?, ?batch/s, loss=0.247, prec=1, rec=1]    \n"
     ]
    },
    {
     "name": "stdout",
     "output_type": "stream",
     "text": [
      "Train loss: 0.569600435346365\n",
      "Train prec: 1.0\n",
      "Train rec: 0.7453125\n"
     ]
    },
    {
     "name": "stderr",
     "output_type": "stream",
     "text": [
      "  0%|          | 0/3 [00:03<?, ?batch/s, loss=0.848, prec=1, rec=0.583]\n"
     ]
    },
    {
     "name": "stdout",
     "output_type": "stream",
     "text": [
      "Train loss: 0.8042246301968893\n",
      "Train prec: 1.0\n",
      "Train rec: 0.6215277711550394\n",
      "Weight saved for epoch 15.\n"
     ]
    },
    {
     "name": "stderr",
     "output_type": "stream",
     "text": [
      "  0%|          | 0/20 [00:16<?, ?batch/s, loss=0.26, prec=1, rec=1]     \n"
     ]
    },
    {
     "name": "stdout",
     "output_type": "stream",
     "text": [
      "Train loss: 0.57231515198946\n",
      "Train prec: 1.0\n",
      "Train rec: 0.7453125\n"
     ]
    },
    {
     "name": "stderr",
     "output_type": "stream",
     "text": [
      "  0%|          | 0/3 [00:03<?, ?batch/s, loss=0.852, prec=1, rec=0.583]\n"
     ]
    },
    {
     "name": "stdout",
     "output_type": "stream",
     "text": [
      "Train loss: 0.8167699774106344\n",
      "Train prec: 1.0\n",
      "Train rec: 0.6215277711550394\n",
      "Weight saved for epoch 16.\n"
     ]
    },
    {
     "name": "stderr",
     "output_type": "stream",
     "text": [
      "  0%|          | 0/20 [00:16<?, ?batch/s, loss=0.411, prec=1, rec=1]    \n"
     ]
    },
    {
     "name": "stdout",
     "output_type": "stream",
     "text": [
      "Train loss: 0.5761205032467842\n",
      "Train prec: 1.0\n",
      "Train rec: 0.7453125\n"
     ]
    },
    {
     "name": "stderr",
     "output_type": "stream",
     "text": [
      "  0%|          | 0/3 [00:03<?, ?batch/s, loss=0.571, prec=1, rec=0.75] \n"
     ]
    },
    {
     "name": "stdout",
     "output_type": "stream",
     "text": [
      "Train loss: 0.6912203828493754\n",
      "Train prec: 1.0\n",
      "Train rec: 0.65625\n",
      "Weight saved for epoch 17.\n"
     ]
    },
    {
     "name": "stderr",
     "output_type": "stream",
     "text": [
      "  0%|          | 0/20 [00:17<?, ?batch/s, loss=0.802, prec=1, rec=0.5]  \n"
     ]
    },
    {
     "name": "stdout",
     "output_type": "stream",
     "text": [
      "Train loss: 0.5980615004897117\n",
      "Train prec: 1.0\n",
      "Train rec: 0.721875\n"
     ]
    },
    {
     "name": "stderr",
     "output_type": "stream",
     "text": [
      "  0%|          | 0/3 [00:03<?, ?batch/s, loss=0.776, prec=0.833, rec=0.333]\n"
     ]
    },
    {
     "name": "stdout",
     "output_type": "stream",
     "text": [
      "Train loss: 0.6910555760065714\n",
      "Train prec: 0.8819444378217062\n",
      "Train rec: 0.5694444477558136\n",
      "Weight saved for epoch 18.\n"
     ]
    },
    {
     "name": "stderr",
     "output_type": "stream",
     "text": [
      "  0%|          | 0/20 [00:17<?, ?batch/s, loss=0.28, prec=1, rec=1]         \n"
     ]
    },
    {
     "name": "stdout",
     "output_type": "stream",
     "text": [
      "Train loss: 0.5719159543514252\n",
      "Train prec: 0.9953125\n",
      "Train rec: 0.7453125\n"
     ]
    },
    {
     "name": "stderr",
     "output_type": "stream",
     "text": [
      "  0%|          | 0/3 [00:03<?, ?batch/s, loss=0.779, prec=1, rec=0.667]\n"
     ]
    },
    {
     "name": "stdout",
     "output_type": "stream",
     "text": [
      "Train loss: 0.8102318247159322\n",
      "Train prec: 1.0\n",
      "Train rec: 0.6388888955116272\n",
      "Weight saved for epoch 19.\n"
     ]
    },
    {
     "name": "stderr",
     "output_type": "stream",
     "text": [
      "  0%|          | 0/20 [00:16<?, ?batch/s, loss=0.803, prec=1, rec=0.5]  \n"
     ]
    },
    {
     "name": "stdout",
     "output_type": "stream",
     "text": [
      "Train loss: 0.5976694494485855\n",
      "Train prec: 1.0\n",
      "Train rec: 0.721875\n"
     ]
    },
    {
     "name": "stderr",
     "output_type": "stream",
     "text": [
      "  0%|          | 0/3 [00:03<?, ?batch/s, loss=0.667, prec=0.833, rec=0.667]\n"
     ]
    },
    {
     "name": "stdout",
     "output_type": "stream",
     "text": [
      "Train loss: 0.6761033535003662\n",
      "Train prec: 0.8090277711550394\n",
      "Train rec: 0.6388888955116272\n",
      "Weight saved for epoch 20.\n"
     ]
    },
    {
     "name": "stderr",
     "output_type": "stream",
     "text": [
      "  0%|          | 0/20 [00:16<?, ?batch/s, loss=0.284, prec=1, rec=1]        \n"
     ]
    },
    {
     "name": "stdout",
     "output_type": "stream",
     "text": [
      "Train loss: 0.5772740364074707\n",
      "Train prec: 0.9984375\n",
      "Train rec: 0.7453125\n"
     ]
    },
    {
     "name": "stderr",
     "output_type": "stream",
     "text": [
      "  0%|          | 0/3 [00:03<?, ?batch/s, loss=1.02, prec=1, rec=0.5]   \n"
     ]
    },
    {
     "name": "stdout",
     "output_type": "stream",
     "text": [
      "Train loss: 0.8324034214019775\n",
      "Train prec: 1.0\n",
      "Train rec: 0.6041666666666666\n",
      "Weight saved for epoch 21.\n"
     ]
    },
    {
     "name": "stderr",
     "output_type": "stream",
     "text": [
      "  0%|          | 0/20 [00:16<?, ?batch/s, loss=0.812, prec=1, rec=0.5]  \n"
     ]
    },
    {
     "name": "stdout",
     "output_type": "stream",
     "text": [
      "Train loss: 0.5986839443445205\n",
      "Train prec: 1.0\n",
      "Train rec: 0.721875\n"
     ]
    },
    {
     "name": "stderr",
     "output_type": "stream",
     "text": [
      "  0%|          | 0/3 [00:03<?, ?batch/s, loss=0.626, prec=0.917, rec=0.75]\n"
     ]
    },
    {
     "name": "stdout",
     "output_type": "stream",
     "text": [
      "Train loss: 0.6564244230588278\n",
      "Train prec: 0.9305555621782938\n",
      "Train rec: 0.65625\n",
      "Weight saved for epoch 22.\n"
     ]
    },
    {
     "name": "stderr",
     "output_type": "stream",
     "text": [
      "  0%|          | 0/20 [00:16<?, ?batch/s, loss=0.756, prec=1, rec=0.5]      \n"
     ]
    },
    {
     "name": "stdout",
     "output_type": "stream",
     "text": [
      "Train loss: 0.5925003558397293\n",
      "Train prec: 0.996875\n",
      "Train rec: 0.721875\n"
     ]
    },
    {
     "name": "stderr",
     "output_type": "stream",
     "text": [
      "  0%|          | 0/3 [00:03<?, ?batch/s, loss=0.652, prec=0.917, rec=0.667]\n"
     ]
    },
    {
     "name": "stdout",
     "output_type": "stream",
     "text": [
      "Train loss: 0.6654645601908366\n",
      "Train prec: 0.8993055621782938\n",
      "Train rec: 0.6388888955116272\n",
      "Weight saved for epoch 23.\n"
     ]
    },
    {
     "name": "stderr",
     "output_type": "stream",
     "text": [
      "  0%|          | 0/20 [00:17<?, ?batch/s, loss=0.875, prec=1, rec=0.5]  \n"
     ]
    },
    {
     "name": "stdout",
     "output_type": "stream",
     "text": [
      "Train loss: 0.6057608783245086\n",
      "Train prec: 1.0\n",
      "Train rec: 0.721875\n"
     ]
    },
    {
     "name": "stderr",
     "output_type": "stream",
     "text": [
      "  0%|          | 0/3 [00:03<?, ?batch/s, loss=0.725, prec=1, rec=0.5]      \n"
     ]
    },
    {
     "name": "stdout",
     "output_type": "stream",
     "text": [
      "Train loss: 0.673904538154602\n",
      "Train prec: 0.9895833333333334\n",
      "Train rec: 0.6041666666666666\n",
      "Weight saved for epoch 24.\n"
     ]
    },
    {
     "name": "stderr",
     "output_type": "stream",
     "text": [
      "  0%|          | 0/20 [00:16<?, ?batch/s, loss=0.265, prec=1, rec=1]    \n"
     ]
    },
    {
     "name": "stdout",
     "output_type": "stream",
     "text": [
      "Train loss: 0.5716848850250245\n",
      "Train prec: 1.0\n",
      "Train rec: 0.7453125\n"
     ]
    },
    {
     "name": "stderr",
     "output_type": "stream",
     "text": [
      "  0%|          | 0/3 [00:03<?, ?batch/s, loss=1.03, prec=1, rec=0.5]   \n"
     ]
    },
    {
     "name": "stdout",
     "output_type": "stream",
     "text": [
      "Train loss: 0.8552459279696146\n",
      "Train prec: 1.0\n",
      "Train rec: 0.6041666666666666\n",
      "Weight saved for epoch 25.\n"
     ]
    },
    {
     "name": "stderr",
     "output_type": "stream",
     "text": [
      "  0%|          | 0/20 [00:16<?, ?batch/s, loss=0.291, prec=1, rec=1]    \n"
     ]
    },
    {
     "name": "stdout",
     "output_type": "stream",
     "text": [
      "Train loss: 0.5745597019791603\n",
      "Train prec: 1.0\n",
      "Train rec: 0.7453125\n"
     ]
    },
    {
     "name": "stderr",
     "output_type": "stream",
     "text": [
      "  0%|          | 0/3 [00:03<?, ?batch/s, loss=0.743, prec=1, rec=0.667]\n"
     ]
    },
    {
     "name": "stdout",
     "output_type": "stream",
     "text": [
      "Train loss: 0.774949828783671\n",
      "Train prec: 1.0\n",
      "Train rec: 0.6388888955116272\n",
      "Weight saved for epoch 26.\n"
     ]
    },
    {
     "name": "stderr",
     "output_type": "stream",
     "text": [
      "  0%|          | 0/20 [00:16<?, ?batch/s, loss=0.818, prec=1, rec=0.5]  \n"
     ]
    },
    {
     "name": "stdout",
     "output_type": "stream",
     "text": [
      "Train loss: 0.5986451789736748\n",
      "Train prec: 1.0\n",
      "Train rec: 0.721875\n"
     ]
    },
    {
     "name": "stderr",
     "output_type": "stream",
     "text": [
      "  0%|          | 0/3 [00:03<?, ?batch/s, loss=0.718, prec=0.917, rec=0.5]  \n"
     ]
    },
    {
     "name": "stdout",
     "output_type": "stream",
     "text": [
      "Train loss: 0.6803088386853536\n",
      "Train prec: 0.9201388955116272\n",
      "Train rec: 0.6041666666666666\n",
      "Weight saved for epoch 27.\n"
     ]
    },
    {
     "name": "stderr",
     "output_type": "stream",
     "text": [
      "  0%|          | 0/20 [00:17<?, ?batch/s, loss=0.32, prec=1, rec=1]         \n"
     ]
    },
    {
     "name": "stdout",
     "output_type": "stream",
     "text": [
      "Train loss: 0.5738772332668305\n",
      "Train prec: 0.9984375\n",
      "Train rec: 0.7453125\n"
     ]
    },
    {
     "name": "stderr",
     "output_type": "stream",
     "text": [
      "  0%|          | 0/3 [00:03<?, ?batch/s, loss=0.589, prec=1, rec=0.75] \n"
     ]
    },
    {
     "name": "stdout",
     "output_type": "stream",
     "text": [
      "Train loss: 0.7319088578224182\n",
      "Train prec: 1.0\n",
      "Train rec: 0.65625\n",
      "Weight saved for epoch 28.\n"
     ]
    },
    {
     "name": "stderr",
     "output_type": "stream",
     "text": [
      "  0%|          | 0/20 [00:16<?, ?batch/s, loss=0.332, prec=1, rec=1]    \n"
     ]
    },
    {
     "name": "stdout",
     "output_type": "stream",
     "text": [
      "Train loss: 0.5723317459225654\n",
      "Train prec: 1.0\n",
      "Train rec: 0.7453125\n"
     ]
    },
    {
     "name": "stderr",
     "output_type": "stream",
     "text": [
      "  0%|          | 0/3 [00:03<?, ?batch/s, loss=0.455, prec=1, rec=0.833]\n"
     ]
    },
    {
     "name": "stdout",
     "output_type": "stream",
     "text": [
      "Train loss: 0.7103045284748077\n",
      "Train prec: 1.0\n",
      "Train rec: 0.6736111044883728\n",
      "Weight saved for epoch 29.\n"
     ]
    },
    {
     "name": "stderr",
     "output_type": "stream",
     "text": [
      "  0%|          | 0/20 [00:16<?, ?batch/s, loss=0.819, prec=1, rec=0.5]  \n"
     ]
    },
    {
     "name": "stdout",
     "output_type": "stream",
     "text": [
      "Train loss: 0.5984263986349105\n",
      "Train prec: 1.0\n",
      "Train rec: 0.721875\n"
     ]
    },
    {
     "name": "stderr",
     "output_type": "stream",
     "text": [
      "  0%|          | 0/3 [00:03<?, ?batch/s, loss=0.687, prec=1, rec=0.583]    \n"
     ]
    },
    {
     "name": "stdout",
     "output_type": "stream",
     "text": [
      "Train loss: 0.667907198270162\n",
      "Train prec: 0.96875\n",
      "Train rec: 0.6215277711550394\n",
      "Weight saved for epoch 30.\n"
     ]
    },
    {
     "name": "stderr",
     "output_type": "stream",
     "text": [
      "  0%|          | 0/20 [00:16<?, ?batch/s, loss=1.6, prec=0, rec=0]      \n"
     ]
    },
    {
     "name": "stdout",
     "output_type": "stream",
     "text": [
      "Train loss: 0.6356521382927894\n",
      "Train prec: 0.95\n",
      "Train rec: 0.6984375\n"
     ]
    },
    {
     "name": "stderr",
     "output_type": "stream",
     "text": [
      "  0%|          | 0/3 [00:03<?, ?batch/s, loss=2.46, prec=0, rec=0]\n"
     ]
    },
    {
     "name": "stdout",
     "output_type": "stream",
     "text": [
      "Train loss: 1.8211462100346882\n",
      "Train prec: 0.0\n",
      "Train rec: 0.0\n",
      "Weight saved for epoch 31.\n"
     ]
    },
    {
     "name": "stderr",
     "output_type": "stream",
     "text": [
      "  0%|          | 0/20 [00:17<?, ?batch/s, loss=0.249, prec=1, rec=1]        \n"
     ]
    },
    {
     "name": "stdout",
     "output_type": "stream",
     "text": [
      "Train loss: 0.5722833648324013\n",
      "Train prec: 0.94375\n",
      "Train rec: 0.7453125\n"
     ]
    },
    {
     "name": "stderr",
     "output_type": "stream",
     "text": [
      "  0%|          | 0/3 [00:03<?, ?batch/s, loss=0.723, prec=1, rec=0.667]\n"
     ]
    },
    {
     "name": "stdout",
     "output_type": "stream",
     "text": [
      "Train loss: 0.7773572007815043\n",
      "Train prec: 1.0\n",
      "Train rec: 0.6388888955116272\n",
      "Weight saved for epoch 32.\n"
     ]
    },
    {
     "name": "stderr",
     "output_type": "stream",
     "text": [
      "  0%|          | 0/20 [00:17<?, ?batch/s, loss=0.863, prec=1, rec=0.5]  \n"
     ]
    },
    {
     "name": "stdout",
     "output_type": "stream",
     "text": [
      "Train loss: 0.6019906088709831\n",
      "Train prec: 1.0\n",
      "Train rec: 0.721875\n"
     ]
    },
    {
     "name": "stderr",
     "output_type": "stream",
     "text": [
      "  0%|          | 0/3 [00:03<?, ?batch/s, loss=0.643, prec=0.917, rec=0.667]\n"
     ]
    },
    {
     "name": "stdout",
     "output_type": "stream",
     "text": [
      "Train loss: 0.6562318007151285\n",
      "Train prec: 0.9409722288449606\n",
      "Train rec: 0.6388888955116272\n",
      "Weight saved for epoch 33.\n"
     ]
    },
    {
     "name": "stderr",
     "output_type": "stream",
     "text": [
      "  0%|          | 0/20 [00:16<?, ?batch/s, loss=0.812, prec=1, rec=0.5]      \n"
     ]
    },
    {
     "name": "stdout",
     "output_type": "stream",
     "text": [
      "Train loss: 0.5951480239629745\n",
      "Train prec: 0.9984375\n",
      "Train rec: 0.721875\n"
     ]
    },
    {
     "name": "stderr",
     "output_type": "stream",
     "text": [
      "  0%|          | 0/3 [00:03<?, ?batch/s, loss=0.678, prec=0.75, rec=0.667] \n"
     ]
    },
    {
     "name": "stdout",
     "output_type": "stream",
     "text": [
      "Train loss: 0.6785544554392496\n",
      "Train prec: 0.7916666666666666\n",
      "Train rec: 0.6388888955116272\n",
      "Weight saved for epoch 34.\n"
     ]
    },
    {
     "name": "stderr",
     "output_type": "stream",
     "text": [
      "  0%|          | 0/20 [00:15<?, ?batch/s, loss=0.367, prec=1, rec=1]    \n"
     ]
    },
    {
     "name": "stdout",
     "output_type": "stream",
     "text": [
      "Train loss: 0.5786184668540955\n",
      "Train prec: 1.0\n",
      "Train rec: 0.7453125\n"
     ]
    },
    {
     "name": "stderr",
     "output_type": "stream",
     "text": [
      "  0%|          | 0/3 [00:03<?, ?batch/s, loss=0.575, prec=1, rec=0.75] \n"
     ]
    },
    {
     "name": "stdout",
     "output_type": "stream",
     "text": [
      "Train loss: 0.7102113167444865\n",
      "Train prec: 1.0\n",
      "Train rec: 0.65625\n",
      "Weight saved for epoch 35.\n"
     ]
    },
    {
     "name": "stderr",
     "output_type": "stream",
     "text": [
      "  0%|          | 0/20 [00:16<?, ?batch/s, loss=0.319, prec=1, rec=1]    \n"
     ]
    },
    {
     "name": "stdout",
     "output_type": "stream",
     "text": [
      "Train loss: 0.5722144693136215\n",
      "Train prec: 1.0\n",
      "Train rec: 0.7453125\n"
     ]
    },
    {
     "name": "stderr",
     "output_type": "stream",
     "text": [
      "  0%|          | 0/3 [00:03<?, ?batch/s, loss=0.694, prec=1, rec=0.667]\n"
     ]
    },
    {
     "name": "stdout",
     "output_type": "stream",
     "text": [
      "Train loss: 0.7414662837982178\n",
      "Train prec: 1.0\n",
      "Train rec: 0.6388888955116272\n",
      "Weight saved for epoch 36.\n"
     ]
    },
    {
     "name": "stderr",
     "output_type": "stream",
     "text": [
      "  0%|          | 0/20 [00:16<?, ?batch/s, loss=0.242, prec=1, rec=1]    \n"
     ]
    },
    {
     "name": "stdout",
     "output_type": "stream",
     "text": [
      "Train loss: 0.571192754805088\n",
      "Train prec: 1.0\n",
      "Train rec: 0.7453125\n"
     ]
    },
    {
     "name": "stderr",
     "output_type": "stream",
     "text": [
      "  0%|          | 0/3 [00:03<?, ?batch/s, loss=0.619, prec=1, rec=0.75] \n"
     ]
    },
    {
     "name": "stdout",
     "output_type": "stream",
     "text": [
      "Train loss: 0.7889531850814819\n",
      "Train prec: 1.0\n",
      "Train rec: 0.65625\n",
      "Weight saved for epoch 37.\n"
     ]
    },
    {
     "name": "stderr",
     "output_type": "stream",
     "text": [
      "  0%|          | 0/20 [00:16<?, ?batch/s, loss=1.26, prec=0, rec=0]     \n"
     ]
    },
    {
     "name": "stdout",
     "output_type": "stream",
     "text": [
      "Train loss: 0.6198790907859802\n",
      "Train prec: 0.95\n",
      "Train rec: 0.6984375\n"
     ]
    },
    {
     "name": "stderr",
     "output_type": "stream",
     "text": [
      "  0%|          | 0/3 [00:03<?, ?batch/s, loss=0.886, prec=0, rec=0]\n"
     ]
    },
    {
     "name": "stdout",
     "output_type": "stream",
     "text": [
      "Train loss: 0.8669435580571493\n",
      "Train prec: 0.0\n",
      "Train rec: 0.0\n",
      "Weight saved for epoch 38.\n"
     ]
    },
    {
     "name": "stderr",
     "output_type": "stream",
     "text": [
      "  0%|          | 0/20 [00:16<?, ?batch/s, loss=0.838, prec=1, rec=0.5]       \n"
     ]
    },
    {
     "name": "stdout",
     "output_type": "stream",
     "text": [
      "Train loss: 0.6041162744164467\n",
      "Train prec: 0.934375\n",
      "Train rec: 0.721875\n"
     ]
    },
    {
     "name": "stderr",
     "output_type": "stream",
     "text": [
      "  0%|          | 0/3 [00:03<?, ?batch/s, loss=0.591, prec=1, rec=0.75]     \n"
     ]
    },
    {
     "name": "stdout",
     "output_type": "stream",
     "text": [
      "Train loss: 0.6467499732971191\n",
      "Train prec: 0.9583333333333334\n",
      "Train rec: 0.65625\n",
      "Weight saved for epoch 39.\n"
     ]
    },
    {
     "name": "stderr",
     "output_type": "stream",
     "text": [
      "  0%|          | 0/20 [00:17<?, ?batch/s, loss=0.29, prec=1, rec=1]        \n"
     ]
    },
    {
     "name": "stdout",
     "output_type": "stream",
     "text": [
      "Train loss: 0.571801683306694\n",
      "Train prec: 0.9984375\n",
      "Train rec: 0.7453125\n"
     ]
    },
    {
     "name": "stderr",
     "output_type": "stream",
     "text": [
      "  0%|          | 0/3 [00:03<?, ?batch/s, loss=0.585, prec=1, rec=0.75] \n"
     ]
    },
    {
     "name": "stdout",
     "output_type": "stream",
     "text": [
      "Train loss: 0.7399426301320394\n",
      "Train prec: 1.0\n",
      "Train rec: 0.65625\n",
      "Weight saved for epoch 40.\n"
     ]
    },
    {
     "name": "stderr",
     "output_type": "stream",
     "text": [
      "  0%|          | 0/20 [00:16<?, ?batch/s, loss=0.745, prec=1, rec=0.5]  \n"
     ]
    },
    {
     "name": "stdout",
     "output_type": "stream",
     "text": [
      "Train loss: 0.5906209006905556\n",
      "Train prec: 1.0\n",
      "Train rec: 0.721875\n"
     ]
    },
    {
     "name": "stderr",
     "output_type": "stream",
     "text": [
      "  0%|          | 0/3 [00:03<?, ?batch/s, loss=0.606, prec=0.917, rec=0.833]\n"
     ]
    },
    {
     "name": "stdout",
     "output_type": "stream",
     "text": [
      "Train loss: 0.6606643001238505\n",
      "Train prec: 0.8576388955116272\n",
      "Train rec: 0.6736111044883728\n",
      "Weight saved for epoch 41.\n"
     ]
    },
    {
     "name": "stderr",
     "output_type": "stream",
     "text": [
      "  0%|          | 0/20 [00:17<?, ?batch/s, loss=0.865, prec=1, rec=0.5]      \n"
     ]
    },
    {
     "name": "stdout",
     "output_type": "stream",
     "text": [
      "Train loss: 0.6002832144498825\n",
      "Train prec: 0.9953125\n",
      "Train rec: 0.721875\n"
     ]
    },
    {
     "name": "stderr",
     "output_type": "stream",
     "text": [
      "  0%|          | 0/3 [00:03<?, ?batch/s, loss=0.638, prec=1, rec=0.667]    \n"
     ]
    },
    {
     "name": "stdout",
     "output_type": "stream",
     "text": [
      "Train loss: 0.6575687726338705\n",
      "Train prec: 0.9895833333333334\n",
      "Train rec: 0.6388888955116272\n",
      "Weight saved for epoch 42.\n"
     ]
    },
    {
     "name": "stderr",
     "output_type": "stream",
     "text": [
      "  0%|          | 0/20 [00:16<?, ?batch/s, loss=0.254, prec=1, rec=1]    \n"
     ]
    },
    {
     "name": "stdout",
     "output_type": "stream",
     "text": [
      "Train loss: 0.568843375146389\n",
      "Train prec: 1.0\n",
      "Train rec: 0.7453125\n"
     ]
    },
    {
     "name": "stderr",
     "output_type": "stream",
     "text": [
      "  0%|          | 0/3 [00:03<?, ?batch/s, loss=0.881, prec=1, rec=0.583]\n"
     ]
    },
    {
     "name": "stdout",
     "output_type": "stream",
     "text": [
      "Train loss: 0.8363763093948364\n",
      "Train prec: 1.0\n",
      "Train rec: 0.6215277711550394\n",
      "Weight saved for epoch 43.\n"
     ]
    },
    {
     "name": "stderr",
     "output_type": "stream",
     "text": [
      "  0%|          | 0/20 [00:16<?, ?batch/s, loss=0.802, prec=1, rec=0.5]  \n"
     ]
    },
    {
     "name": "stdout",
     "output_type": "stream",
     "text": [
      "Train loss: 0.5947093233466149\n",
      "Train prec: 1.0\n",
      "Train rec: 0.721875\n"
     ]
    },
    {
     "name": "stderr",
     "output_type": "stream",
     "text": [
      "  0%|          | 0/3 [00:03<?, ?batch/s, loss=0.607, prec=0.917, rec=0.833]\n"
     ]
    },
    {
     "name": "stdout",
     "output_type": "stream",
     "text": [
      "Train loss: 0.6596572200457255\n",
      "Train prec: 0.9097222288449606\n",
      "Train rec: 0.6736111044883728\n",
      "Weight saved for epoch 44.\n"
     ]
    },
    {
     "name": "stderr",
     "output_type": "stream",
     "text": [
      "  0%|          | 0/20 [00:17<?, ?batch/s, loss=0.801, prec=1, rec=0.5]      \n"
     ]
    },
    {
     "name": "stdout",
     "output_type": "stream",
     "text": [
      "Train loss: 0.5955121070146561\n",
      "Train prec: 0.9984375\n",
      "Train rec: 0.721875\n"
     ]
    },
    {
     "name": "stderr",
     "output_type": "stream",
     "text": [
      "  0%|          | 0/3 [00:03<?, ?batch/s, loss=0.684, prec=1, rec=0.583]    \n"
     ]
    },
    {
     "name": "stdout",
     "output_type": "stream",
     "text": [
      "Train loss: 0.6702901919682821\n",
      "Train prec: 0.9375\n",
      "Train rec: 0.6215277711550394\n",
      "Weight saved for epoch 45.\n"
     ]
    },
    {
     "name": "stderr",
     "output_type": "stream",
     "text": [
      "  0%|          | 0/20 [00:17<?, ?batch/s, loss=0.846, prec=1, rec=0.5]     \n"
     ]
    },
    {
     "name": "stdout",
     "output_type": "stream",
     "text": [
      "Train loss: 0.6020184502005577\n",
      "Train prec: 0.9984375\n",
      "Train rec: 0.721875\n"
     ]
    },
    {
     "name": "stderr",
     "output_type": "stream",
     "text": [
      "  0%|          | 0/3 [00:03<?, ?batch/s, loss=0.729, prec=0.917, rec=0.5]  \n"
     ]
    },
    {
     "name": "stdout",
     "output_type": "stream",
     "text": [
      "Train loss: 0.6741498907407125\n",
      "Train prec: 0.9618055621782938\n",
      "Train rec: 0.6041666666666666\n",
      "Weight saved for epoch 46.\n"
     ]
    },
    {
     "name": "stderr",
     "output_type": "stream",
     "text": [
      "  0%|          | 0/20 [00:17<?, ?batch/s, loss=0.242, prec=1, rec=1]    \n"
     ]
    },
    {
     "name": "stdout",
     "output_type": "stream",
     "text": [
      "Train loss: 0.5703331604599953\n",
      "Train prec: 1.0\n",
      "Train rec: 0.7453125\n"
     ]
    },
    {
     "name": "stderr",
     "output_type": "stream",
     "text": [
      "  0%|          | 0/3 [00:03<?, ?batch/s, loss=1.05, prec=1, rec=0.5]   \n"
     ]
    },
    {
     "name": "stdout",
     "output_type": "stream",
     "text": [
      "Train loss: 0.8587247927983602\n",
      "Train prec: 1.0\n",
      "Train rec: 0.6041666666666666\n",
      "Weight saved for epoch 47.\n"
     ]
    },
    {
     "name": "stderr",
     "output_type": "stream",
     "text": [
      "  0%|          | 0/20 [00:16<?, ?batch/s, loss=0.352, prec=1, rec=1]    \n"
     ]
    },
    {
     "name": "stdout",
     "output_type": "stream",
     "text": [
      "Train loss: 0.5770942866802216\n",
      "Train prec: 1.0\n",
      "Train rec: 0.7453125\n"
     ]
    },
    {
     "name": "stderr",
     "output_type": "stream",
     "text": [
      "  0%|          | 0/3 [00:03<?, ?batch/s, loss=0.686, prec=1, rec=0.667]\n"
     ]
    },
    {
     "name": "stdout",
     "output_type": "stream",
     "text": [
      "Train loss: 0.7218539317448934\n",
      "Train prec: 1.0\n",
      "Train rec: 0.6388888955116272\n",
      "Weight saved for epoch 48.\n"
     ]
    },
    {
     "name": "stderr",
     "output_type": "stream",
     "text": [
      "  0%|          | 0/20 [00:17<?, ?batch/s, loss=0.851, prec=1, rec=0.5]  \n"
     ]
    },
    {
     "name": "stdout",
     "output_type": "stream",
     "text": [
      "Train loss: 0.5978007942438126\n",
      "Train prec: 1.0\n",
      "Train rec: 0.721875\n"
     ]
    },
    {
     "name": "stderr",
     "output_type": "stream",
     "text": [
      "  0%|          | 0/3 [00:03<?, ?batch/s, loss=0.584, prec=1, rec=0.75]     \n"
     ]
    },
    {
     "name": "stdout",
     "output_type": "stream",
     "text": [
      "Train loss: 0.64443306128184\n",
      "Train prec: 0.9895833333333334\n",
      "Train rec: 0.65625\n",
      "Weight saved for epoch 49.\n"
     ]
    }
   ],
   "source": [
    "train_script(get_res50(), train_l, val_l, 50, False, '../../mayo_weights/res50_256/')"
   ]
  },
  {
   "cell_type": "code",
   "execution_count": null,
   "metadata": {},
   "outputs": [],
   "source": []
  },
  {
   "cell_type": "code",
   "execution_count": null,
   "metadata": {},
   "outputs": [],
   "source": []
  }
 ],
 "metadata": {
  "kernelspec": {
   "display_name": "base_env",
   "language": "python",
   "name": "base_env"
  },
  "language_info": {
   "codemirror_mode": {
    "name": "ipython",
    "version": 3
   },
   "file_extension": ".py",
   "mimetype": "text/x-python",
   "name": "python",
   "nbconvert_exporter": "python",
   "pygments_lexer": "ipython3",
   "version": "3.9.16"
  }
 },
 "nbformat": 4,
 "nbformat_minor": 2
}
